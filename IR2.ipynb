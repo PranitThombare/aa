{
 "cells": [
  {
   "cell_type": "code",
   "execution_count": 38,
   "metadata": {},
   "outputs": [],
   "source": [
    "from nltk.corpus import stopwords"
   ]
  },
  {
   "cell_type": "code",
   "execution_count": 39,
   "metadata": {},
   "outputs": [],
   "source": [
    "def p_remove(text):\n",
    "    text = text.split()\n",
    "    r = []\n",
    "    for i in text:\n",
    "        if i.isalpha():\n",
    "            r.append(i)\n",
    "\n",
    "    return ' '.join(r)\n",
    "\n",
    "def s_remove(text):\n",
    "    return ' '.join([ w for w in text.split() if w not in stopwords.words('english')])"
   ]
  },
  {
   "cell_type": "code",
   "execution_count": 57,
   "metadata": {},
   "outputs": [],
   "source": [
    "f1 = open('doc1.txt', encoding='utf8')\n",
    "f2 = open('doc2.txt', encoding='utf8')"
   ]
  },
  {
   "cell_type": "code",
   "execution_count": 58,
   "metadata": {},
   "outputs": [
    {
     "data": {
      "text/plain": [
       "'Cybersecurity (or security): The practice of ensuring confidentiality, integrity, and availability of information by protecting networks, devices, people, and data from unauthorized access or criminal exploitation\\n\\nCloud security: The process of ensuring that assets stored in the cloud are properly configured and access to those assets is limited to authorized users\\n\\nInternal threat: A current or former employee, external vendor, or trusted partner who poses a security risk\\n'"
      ]
     },
     "execution_count": 58,
     "metadata": {},
     "output_type": "execute_result"
    }
   ],
   "source": [
    "doc1 = f1.read()\n",
    "doc1"
   ]
  },
  {
   "cell_type": "code",
   "execution_count": 59,
   "metadata": {},
   "outputs": [
    {
     "data": {
      "text/plain": [
       "'Resources\\n\\nResources are any finite entities that are required to perform tasks. They can be physical resources, such as tools, equipment, and materials, or intangible resources, such as time, money, and expertise. Resources are often shared by multiple tasks, and their availability can influence the scheduling of tasks.\\n\\nTemporal Constraints\\n\\nTemporal constraints are limitations on the timing of events. They can specify the order in which events must occur, the duration of events, or the time intervals within which events must occur. Temporal constraints are often used in scheduling to ensure that tasks are completed in a timely manner and that resources are used efficiently.\\n'"
      ]
     },
     "execution_count": 59,
     "metadata": {},
     "output_type": "execute_result"
    }
   ],
   "source": [
    "doc2 = f2.read()\n",
    "doc2"
   ]
  },
  {
   "cell_type": "code",
   "execution_count": 60,
   "metadata": {},
   "outputs": [],
   "source": [
    "doc1 = s_remove(doc1)\n",
    "doc2 = s_remove(doc2)"
   ]
  },
  {
   "cell_type": "code",
   "execution_count": 61,
   "metadata": {},
   "outputs": [
    {
     "data": {
      "text/plain": [
       "'Resources Resources finite entities required perform tasks. They physical resources, tools, equipment, materials, intangible resources, time, money, expertise. Resources often shared multiple tasks, availability influence scheduling tasks. Temporal Constraints Temporal constraints limitations timing events. They specify order events must occur, duration events, time intervals within events must occur. Temporal constraints often used scheduling ensure tasks completed timely manner resources used efficiently.'"
      ]
     },
     "execution_count": 61,
     "metadata": {},
     "output_type": "execute_result"
    }
   ],
   "source": [
    "doc2"
   ]
  },
  {
   "cell_type": "code",
   "execution_count": 62,
   "metadata": {},
   "outputs": [],
   "source": [
    "doc1 = p_remove(doc1)"
   ]
  },
  {
   "cell_type": "code",
   "execution_count": 63,
   "metadata": {},
   "outputs": [],
   "source": [
    "doc2 = p_remove(doc2)"
   ]
  },
  {
   "cell_type": "code",
   "execution_count": 65,
   "metadata": {},
   "outputs": [],
   "source": [
    "doc1 = doc1.split()\n",
    "doc2 = doc2.split()"
   ]
  },
  {
   "cell_type": "code",
   "execution_count": 66,
   "metadata": {},
   "outputs": [],
   "source": [
    "term = list(set( doc1 + doc2))"
   ]
  },
  {
   "cell_type": "code",
   "execution_count": 67,
   "metadata": {},
   "outputs": [
    {
     "data": {
      "text/plain": [
       "['Resources',\n",
       " 'Resources',\n",
       " 'finite',\n",
       " 'entities',\n",
       " 'required',\n",
       " 'perform',\n",
       " 'They',\n",
       " 'physical',\n",
       " 'intangible',\n",
       " 'Resources',\n",
       " 'often',\n",
       " 'shared',\n",
       " 'multiple',\n",
       " 'availability',\n",
       " 'influence',\n",
       " 'scheduling',\n",
       " 'Temporal',\n",
       " 'Constraints',\n",
       " 'Temporal',\n",
       " 'constraints',\n",
       " 'limitations',\n",
       " 'timing',\n",
       " 'They',\n",
       " 'specify',\n",
       " 'order',\n",
       " 'events',\n",
       " 'must',\n",
       " 'duration',\n",
       " 'time',\n",
       " 'intervals',\n",
       " 'within',\n",
       " 'events',\n",
       " 'must',\n",
       " 'Temporal',\n",
       " 'constraints',\n",
       " 'often',\n",
       " 'used',\n",
       " 'scheduling',\n",
       " 'ensure',\n",
       " 'tasks',\n",
       " 'completed',\n",
       " 'timely',\n",
       " 'manner',\n",
       " 'resources',\n",
       " 'used']"
      ]
     },
     "execution_count": 67,
     "metadata": {},
     "output_type": "execute_result"
    }
   ],
   "source": [
    "doc2"
   ]
  },
  {
   "cell_type": "code",
   "execution_count": 68,
   "metadata": {},
   "outputs": [],
   "source": [
    "inv_tok = {}\n",
    "\n",
    "for t in term:\n",
    "    documents = []\n",
    "    if t in doc1:\n",
    "        documents.append('doc 1')\n",
    "    if t in doc2:\n",
    "        documents.append('doc 2')\n",
    "    inv_tok[t] = documents\n",
    "\n"
   ]
  },
  {
   "cell_type": "code",
   "execution_count": 71,
   "metadata": {},
   "outputs": [
    {
     "name": "stdout",
     "output_type": "stream",
     "text": [
      "shared    ->    doc 2\n",
      "users    ->    doc 1\n",
      "ensuring    ->    doc 1\n",
      "within    ->    doc 2\n",
      "information    ->    doc 1\n",
      "required    ->    doc 2\n",
      "scheduling    ->    doc 2\n",
      "limited    ->    doc 1\n",
      "physical    ->    doc 2\n",
      "constraints    ->    doc 2\n",
      "unauthorized    ->    doc 1\n",
      "access    ->    doc 1\n",
      "Internal    ->    doc 1\n",
      "finite    ->    doc 2\n",
      "order    ->    doc 2\n",
      "They    ->    doc 2\n",
      "criminal    ->    doc 1\n",
      "tasks    ->    doc 2\n",
      "duration    ->    doc 2\n",
      "process    ->    doc 1\n",
      "trusted    ->    doc 1\n",
      "current    ->    doc 1\n",
      "specify    ->    doc 2\n",
      "used    ->    doc 2\n",
      "perform    ->    doc 2\n",
      "entities    ->    doc 2\n",
      "availability    ->    doc 1,doc 2\n",
      "A    ->    doc 1\n",
      "resources    ->    doc 2\n",
      "exploitation    ->    doc 1\n",
      "The    ->    doc 1\n",
      "multiple    ->    doc 2\n",
      "protecting    ->    doc 1\n",
      "former    ->    doc 1\n",
      "time    ->    doc 2\n",
      "intervals    ->    doc 2\n",
      "ensure    ->    doc 2\n",
      "Cybersecurity    ->    doc 1\n",
      "assets    ->    doc 1\n",
      "completed    ->    doc 2\n",
      "Constraints    ->    doc 2\n",
      "influence    ->    doc 2\n",
      "limitations    ->    doc 2\n",
      "stored    ->    doc 1\n",
      "properly    ->    doc 1\n",
      "intangible    ->    doc 2\n",
      "events    ->    doc 2\n",
      "practice    ->    doc 1\n",
      "often    ->    doc 2\n",
      "partner    ->    doc 1\n",
      "timely    ->    doc 2\n",
      "Temporal    ->    doc 2\n",
      "data    ->    doc 1\n",
      "authorized    ->    doc 1\n",
      "risk    ->    doc 1\n",
      "external    ->    doc 1\n",
      "manner    ->    doc 2\n",
      "cloud    ->    doc 1\n",
      "Resources    ->    doc 2\n",
      "poses    ->    doc 1\n",
      "security    ->    doc 1\n",
      "Cloud    ->    doc 1\n",
      "timing    ->    doc 2\n",
      "configured    ->    doc 1\n",
      "must    ->    doc 2\n"
     ]
    }
   ],
   "source": [
    "for term, doc in inv_tok.items():\n",
    "    print( term, '   ->   ', \",\".join(doc))"
   ]
  },
  {
   "cell_type": "code",
   "execution_count": null,
   "metadata": {},
   "outputs": [],
   "source": []
  }
 ],
 "metadata": {
  "kernelspec": {
   "display_name": "Python 3",
   "language": "python",
   "name": "python3"
  },
  "language_info": {
   "codemirror_mode": {
    "name": "ipython",
    "version": 3
   },
   "file_extension": ".py",
   "mimetype": "text/x-python",
   "name": "python",
   "nbconvert_exporter": "python",
   "pygments_lexer": "ipython3",
   "version": "3.12.6"
  }
 },
 "nbformat": 4,
 "nbformat_minor": 2
}
