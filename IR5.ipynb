{
 "cells": [
  {
   "cell_type": "code",
   "execution_count": 25,
   "metadata": {},
   "outputs": [],
   "source": [
    "import numpy as np"
   ]
  },
  {
   "cell_type": "code",
   "execution_count": 26,
   "metadata": {},
   "outputs": [],
   "source": [
    "def cal_pagerank(adj_matrix , dumping_factor = 0.85, iteration = 100, tolerance = 1e-6):\n",
    "    num_nodes = adj_matrix.shape[0]\n",
    "    initial = np.ones(num_nodes)/num_nodes\n",
    "    page = initial.copy()\n",
    "\n",
    "    for iter in range(iteration):\n",
    "        new_page = np.zeros(num_nodes)\n",
    "\n",
    "        for i in range(num_nodes):\n",
    "            for j in range(num_nodes):\n",
    "                if adj_matrix[j,i] == 1:\n",
    "                    out_l = np.sum(adj_matrix[j])\n",
    "                    new_page[i] += page[j] / out_l\n",
    "\n",
    "        new_page = (1-dumping_factor) / num_nodes + dumping_factor *new_page\n",
    "\n",
    "        if np.linalg.norm(new_page - page) < tolerance:\n",
    "            break\n",
    "    \n",
    "        page = new_page\n",
    "\n",
    "    return page"
   ]
  },
  {
   "cell_type": "code",
   "execution_count": 27,
   "metadata": {},
   "outputs": [],
   "source": [
    "arr = np.array([\n",
    "    [0,1,0,0],\n",
    "    [1,0,1,0],\n",
    "    [0,1,0,1],\n",
    "    [0,0,1,0]\n",
    "])\n",
    "\n",
    "ca = cal_pagerank(arr)"
   ]
  },
  {
   "cell_type": "code",
   "execution_count": 28,
   "metadata": {},
   "outputs": [
    {
     "data": {
      "text/plain": [
       "array([0.1754384, 0.3245616, 0.3245616, 0.1754384])"
      ]
     },
     "execution_count": 28,
     "metadata": {},
     "output_type": "execute_result"
    }
   ],
   "source": [
    "ca"
   ]
  },
  {
   "cell_type": "code",
   "execution_count": null,
   "metadata": {},
   "outputs": [],
   "source": []
  }
 ],
 "metadata": {
  "kernelspec": {
   "display_name": "Python 3",
   "language": "python",
   "name": "python3"
  },
  "language_info": {
   "codemirror_mode": {
    "name": "ipython",
    "version": 3
   },
   "file_extension": ".py",
   "mimetype": "text/x-python",
   "name": "python",
   "nbconvert_exporter": "python",
   "pygments_lexer": "ipython3",
   "version": "3.12.6"
  }
 },
 "nbformat": 4,
 "nbformat_minor": 2
}
